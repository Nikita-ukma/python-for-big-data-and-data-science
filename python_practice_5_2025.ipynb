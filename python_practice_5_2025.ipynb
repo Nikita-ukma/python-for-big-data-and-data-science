{
  "cells": [
    {
      "cell_type": "markdown",
      "metadata": {
        "id": "5qV_sehzFCTp"
      },
      "source": [
        "# I. OOP"
      ]
    },
    {
      "cell_type": "markdown",
      "metadata": {
        "id": "tx_U_hOALyfg"
      },
      "source": [
        "1. (6б). Створіть клас Building, додайте три атрибути, один з яких має значення за замовчуванням та два методи на свій розсуд."
      ]
    },
    {
      "cell_type": "code",
      "execution_count": 7,
      "metadata": {
        "id": "-Vf895KaL88N"
      },
      "outputs": [],
      "source": [
        "class Building:\n",
        "    def __init__(self, length, width, floors=1):\n",
        "        self.length = length\n",
        "        self.width = width\n",
        "        self.floors = floors\n",
        "\n",
        "    def volume(self):\n",
        "        return self.length*self.width;\n",
        "\n",
        "    def describe(self):\n",
        "        return f\"This building has {self.volume()} area and {self.floors} floors.\"\n",
        "\n",
        "   \n",
        "    "
      ]
    },
    {
      "cell_type": "markdown",
      "metadata": {
        "id": "X_UlOMB0L93w"
      },
      "source": [
        "2. (2б). Створіть два обʼєкти цього класу, де один з обʼєктів створюється із дефолтним значенням атрибуту. На одному обʼєкті отримайте значення його атрибуту, а на іншому викличте один з його методів."
      ]
    },
    {
      "cell_type": "code",
      "execution_count": 8,
      "metadata": {
        "id": "7gBu0ESOMCpG"
      },
      "outputs": [
        {
          "name": "stdout",
          "output_type": "stream",
          "text": [
            "1\n",
            "120\n"
          ]
        }
      ],
      "source": [
        "my_home = Building(10, 12)\n",
        "friends_home = Building(12, 10, 2)\n",
        "\n",
        "print(my_home.floors)\n",
        "print(friends_home.volume())"
      ]
    },
    {
      "cell_type": "markdown",
      "metadata": {
        "id": "HoqSCZt1MHn5"
      },
      "source": [
        "3. (5б). Створіть клас, де атрибути мають різні рівні доступу. Спробуйте отримати їхні значення та опишіть результати."
      ]
    },
    {
      "cell_type": "code",
      "execution_count": 9,
      "metadata": {
        "id": "r9b3vJxBMSPV"
      },
      "outputs": [
        {
          "name": "stdout",
          "output_type": "stream",
          "text": [
            "1\n",
            "2\n"
          ]
        },
        {
          "ename": "AttributeError",
          "evalue": "'ExampleClass' object has no attribute '__private_attr'",
          "output_type": "error",
          "traceback": [
            "\u001b[31m---------------------------------------------------------------------------\u001b[39m",
            "\u001b[31mAttributeError\u001b[39m                            Traceback (most recent call last)",
            "\u001b[36mCell\u001b[39m\u001b[36m \u001b[39m\u001b[32mIn[9]\u001b[39m\u001b[32m, line 10\u001b[39m\n\u001b[32m      8\u001b[39m \u001b[38;5;28mprint\u001b[39m(obj.public_attr)\n\u001b[32m      9\u001b[39m \u001b[38;5;28mprint\u001b[39m(obj._protected_attr)\n\u001b[32m---> \u001b[39m\u001b[32m10\u001b[39m \u001b[38;5;28mprint\u001b[39m(\u001b[43mobj\u001b[49m\u001b[43m.\u001b[49m\u001b[43m__private_attr\u001b[49m)\n",
            "\u001b[31mAttributeError\u001b[39m: 'ExampleClass' object has no attribute '__private_attr'"
          ]
        }
      ],
      "source": [
        "class ExampleClass:\n",
        "    def __init__(self):\n",
        "        self.public_attr = 1     \n",
        "        self._protected_attr = 2 \n",
        "        self.__private_attr = 3  \n",
        "obj = ExampleClass()\n",
        "\n",
        "print(obj.public_attr)\n",
        "print(obj._protected_attr)\n",
        "print(obj.__private_attr)"
      ]
    },
    {
      "cell_type": "markdown",
      "metadata": {
        "id": "5op2m2vgMSkZ"
      },
      "source": [
        "4. (7б). Як ви розумієте термін self? Для чого використовується метод __init __?"
      ]
    },
    {
      "cell_type": "markdown",
      "metadata": {
        "id": "DyiPqNRvMasx"
      },
      "source": [
        "self — це посилання на поточний екземпляр класу, метод __init__ - конструктор в пайтоні для задання атрибутів."
      ]
    },
    {
      "cell_type": "markdown",
      "metadata": {
        "id": "-6X8EGfjMd2y"
      },
      "source": [
        "5. (9б). Створіть клас 3D-фігура без атрибутів, з методом get_volume для отримання об'єму фігури, що повертає 0 та __add __, який приймає self та other в якості аргументів, а повертає суму об'ємів 3d-фігур self та other."
      ]
    },
    {
      "cell_type": "code",
      "execution_count": 10,
      "metadata": {
        "id": "4rvO_wYUMaEr"
      },
      "outputs": [
        {
          "name": "stdout",
          "output_type": "stream",
          "text": [
            "0\n"
          ]
        }
      ],
      "source": [
        "class ThreeDFigure:\n",
        "    def get_volume(self):\n",
        "        return 0\n",
        "\n",
        "    def __add__(self, other):\n",
        "        if isinstance(other, ThreeDFigure):\n",
        "            return self.get_volume() + other.get_volume()\n",
        "        \n",
        "# Example usage\n",
        "figure1 = ThreeDFigure()\n",
        "figure2 = ThreeDFigure()\n",
        "\n",
        "print(figure1 + figure2)"
      ]
    },
    {
      "cell_type": "markdown",
      "metadata": {
        "id": "SFcKnnv5Mo_z"
      },
      "source": [
        "6. (11б). Створіть 2 дочірніх класи від 3d-фігура: Циліндр та Куб, які мають атрибути, необхідні для розрахунку об'єму. Визначте метод get_volume в кожному з них так, щоби вони розраховували об'єм у залежності від формули для кожного типу фігури. Створіть обʼєкт класу Циліндр та обʼєкт класу Куб. Виконайте операцію суми за допомогою оператора + між ними, аби знайти сумарний об'єм."
      ]
    },
    {
      "cell_type": "code",
      "execution_count": 12,
      "metadata": {
        "id": "H3GVNr69Muf3"
      },
      "outputs": [
        {
          "data": {
            "text/plain": [
              "205.3716694115407"
            ]
          },
          "execution_count": 12,
          "metadata": {},
          "output_type": "execute_result"
        }
      ],
      "source": [
        "import math\n",
        "\n",
        "class Cylinder(ThreeDFigure):\n",
        "    def __init__(self, radius, height):\n",
        "        self.radius = radius\n",
        "        self.height = height\n",
        "\n",
        "    def get_volume(self):\n",
        "        return math.pi * self.radius**2 * self.height  # Volume formula for a cylinder\n",
        "\n",
        "class Cube(ThreeDFigure):\n",
        "    def __init__(self, side):\n",
        "        self.side = side\n",
        "\n",
        "    def get_volume(self):\n",
        "        return self.side**3\n",
        "\n",
        "cylinder = Cylinder(3, 5)\n",
        "cube = Cube(4)\n",
        "\n",
        "total_volume = cylinder + cube\n",
        "total_volume"
      ]
    },
    {
      "cell_type": "markdown",
      "metadata": {
        "id": "HCvR206YMvLK"
      },
      "source": [
        "7. (3б). Продемонструйте різницю між isinstance та issubclass."
      ]
    },
    {
      "cell_type": "code",
      "execution_count": null,
      "metadata": {
        "id": "L_V1bBvDM0GN"
      },
      "outputs": [
        {
          "name": "stdout",
          "output_type": "stream",
          "text": [
            "True\n",
            "False\n",
            "True\n",
            "False\n"
          ]
        }
      ],
      "source": [
        "print(issubclass(Cube, ThreeDFigure))\n",
        "print(issubclass(Cylinder, Cube))\n",
        "\n",
        "print(isinstance(cylinder, ThreeDFigure))\n",
        "print(isinstance(cylinder, Cube))  \n",
        "\n",
        "# issubclass checks if a class is a subclass of another class\n"
      ]
    },
    {
      "cell_type": "markdown",
      "metadata": {
        "id": "jjsaBZ-iM0Qq"
      },
      "source": [
        "8. (13б). Створіть клас EWallet з приватними атрибутами balance та id. Реалізуйте методи поповнення та зняття коштів, забезпечивши належну інкапсуляцію. Підказка: використовуйте декоратори property та setter."
      ]
    },
    {
      "cell_type": "code",
      "execution_count": 18,
      "metadata": {
        "id": "xCvZ7lh8M7YA"
      },
      "outputs": [],
      "source": [
        "id=0\n",
        "class EWallet:\n",
        "    def __init__(self, initial_balance=0):\n",
        "        self.__balance = initial_balance\n",
        "        self.__id = id\n",
        "        id+=1\n",
        "\n",
        "    @property\n",
        "    def balance(self):\n",
        "        return self.__balance\n",
        "\n",
        "    @property\n",
        "    def wallet_id(self):\n",
        "        return self.__id\n",
        "\n",
        "    def deposit(self, amount):\n",
        "        if amount > 0:\n",
        "            self.__balance += amount\n",
        "            return f\"Deposited {amount}. New balance: {self.__balance}\"\n",
        "        return \"Deposit amount must be positive.\"\n",
        "\n",
        "    def withdraw(self, amount):\n",
        "        if amount > 0 and amount <= self.__balance:\n",
        "            self.__balance -= amount\n",
        "            return f\"Withdrew {amount}. New balance: {self.__balance}\"\n",
        "        return \"Insufficient funds or invalid amount.\""
      ]
    },
    {
      "cell_type": "markdown",
      "metadata": {
        "id": "tIzL2SJTM8ft"
      },
      "source": [
        "9. (11б). Створіть клас ShoppingCart, який містить список об'єктів типу Item. Реалізуйте методи для додавання айтемів, їх видалення та відображення списку айтемів."
      ]
    },
    {
      "cell_type": "code",
      "execution_count": null,
      "metadata": {
        "id": "HWxfJKLtNAUZ"
      },
      "outputs": [],
      "source": [
        "class Item:\n",
        "    def __init__(self, name, price):\n",
        "        self.name = name\n",
        "        self.price = price\n",
        "\n",
        "    def __str__(self):\n",
        "        return f\"{self.name}: ${self.price:.2f}\"\n",
        "\n",
        "class ShoppingCart:\n",
        "    def __init__(self):\n",
        "        self.items = []\n",
        "\n",
        "    def add_item(self, item):\n",
        "        if isinstance(item, Item):\n",
        "            self.items.append(item)\n",
        "            return f\"Added {item.name} to the cart.\"\n",
        "        return \"Invalid item.\"\n",
        "\n",
        "    def remove_item(self, item_name):\n",
        "        for item in self.items:\n",
        "            if item.name == item_name:\n",
        "                self.items.remove(item)\n",
        "                return f\"Removed {item_name} from the cart.\"\n",
        "        return \"Item not found in the cart.\"\n",
        "\n",
        "    def show_cart(self):\n",
        "        if not self.items:\n",
        "            return \"Your shopping cart is empty.\"\n",
        "        return \"\\n\".join(str(item) for item in self.items)\n"
      ]
    },
    {
      "cell_type": "markdown",
      "metadata": {
        "id": "lmV8pAwwNIqu"
      },
      "source": [
        "10. (13б). Створіть клас Vehicle з атрибутами brand (manufacturer) та production_age. Створіть ще один клас Engine з такими атрибутами, як type (ex. petrol) та size (volume, litres). Створіть клас Car, який успадковує обидва класи Vehicle та Engine. Продемонструйте використання множинної спадковості, створивши обʼєкт класу Car та отримавши mro для цього класу."
      ]
    },
    {
      "cell_type": "code",
      "execution_count": 20,
      "metadata": {
        "id": "R49grKlWNPeN"
      },
      "outputs": [
        {
          "name": "stdout",
          "output_type": "stream",
          "text": [
            "Car brand: Zaporojec, Age: 5 years, Engine type: petrol, Size: 2.0L\n",
            "[<class '__main__.Car'>, <class '__main__.Vehicle'>, <class '__main__.Engine'>, <class 'object'>]\n"
          ]
        }
      ],
      "source": [
        "class Vehicle:\n",
        "    def __init__(self, brand, production_age):\n",
        "        self.brand = brand\n",
        "        self.production_age = production_age\n",
        "\n",
        "class Engine:\n",
        "    def __init__(self, type, size):\n",
        "        self.type = type\n",
        "        self.size = size\n",
        "\n",
        "class Car(Vehicle, Engine):\n",
        "    def __init__(self, brand, production_age, type, size):\n",
        "        Vehicle.__init__(self, brand, production_age)\n",
        "        Engine.__init__(self, type, size)\n",
        "    \n",
        "    def __str__(self):\n",
        "        return (f\"Car brand: {self.brand}, Age: {self.production_age} years, \"\n",
        "                f\"Engine type: {self.type}, Size: {self.size}L\")\n",
        "\n",
        "\n",
        "my_car = Car(\"Zaporojec\", 5, \"petrol\", 2.0)\n",
        "print(my_car)\n",
        "print(Car.mro())"
      ]
    },
    {
      "cell_type": "markdown",
      "metadata": {
        "id": "dIJyUiNBFG8G"
      },
      "source": [
        "# II. Iterator"
      ]
    },
    {
      "cell_type": "markdown",
      "metadata": {
        "id": "13vsm0NyKIzL"
      },
      "source": [
        "11. (4б). Визначте рядок(str) з 4ма різними за значенням символами. Створіть ітератор на основі цього рядка. Викличте 5 разів функцію next на ітераторі, 4ри перших з них огорніть у ф-цію print()."
      ]
    },
    {
      "cell_type": "code",
      "execution_count": 21,
      "metadata": {
        "id": "81ntabAkKuz-"
      },
      "outputs": [
        {
          "name": "stdout",
          "output_type": "stream",
          "text": [
            "a\n",
            "b\n",
            "c\n",
            "d\n"
          ]
        },
        {
          "data": {
            "text/plain": [
              "<str_ascii_iterator at 0x24cc563a290>"
            ]
          },
          "execution_count": 21,
          "metadata": {},
          "output_type": "execute_result"
        }
      ],
      "source": [
        "my_string = \"abcd\"\n",
        "iterator = iter(my_string)\n",
        "\n",
        "print(next(iterator))\n",
        "print(next(iterator))\n",
        "print(next(iterator))\n",
        "print(next(iterator))\n",
        "iterator"
      ]
    },
    {
      "cell_type": "markdown",
      "metadata": {
        "id": "aekWHGXOLRsO"
      },
      "source": [
        "А що якщо викликати цю ж функцію на рядку?"
      ]
    },
    {
      "cell_type": "code",
      "execution_count": 22,
      "metadata": {
        "id": "mxATGsErLV1i"
      },
      "outputs": [
        {
          "name": "stdout",
          "output_type": "stream",
          "text": [
            "a\n",
            "b\n",
            "c\n",
            "d\n"
          ]
        },
        {
          "ename": "IndexError",
          "evalue": "string index out of range",
          "output_type": "error",
          "traceback": [
            "\u001b[31m---------------------------------------------------------------------------\u001b[39m",
            "\u001b[31mIndexError\u001b[39m                                Traceback (most recent call last)",
            "\u001b[36mCell\u001b[39m\u001b[36m \u001b[39m\u001b[32mIn[22]\u001b[39m\u001b[32m, line 5\u001b[39m\n\u001b[32m      3\u001b[39m \u001b[38;5;28mprint\u001b[39m(my_string[\u001b[32m2\u001b[39m])\n\u001b[32m      4\u001b[39m \u001b[38;5;28mprint\u001b[39m(my_string[\u001b[32m3\u001b[39m])\n\u001b[32m----> \u001b[39m\u001b[32m5\u001b[39m \u001b[43mmy_string\u001b[49m\u001b[43m[\u001b[49m\u001b[32;43m4\u001b[39;49m\u001b[43m]\u001b[49m\n",
            "\u001b[31mIndexError\u001b[39m: string index out of range"
          ]
        }
      ],
      "source": [
        "print(my_string[0]) \n",
        "print(my_string[1]) \n",
        "print(my_string[2])\n",
        "print(my_string[3])\n",
        "my_string[4]"
      ]
    },
    {
      "cell_type": "markdown",
      "metadata": {
        "id": "XwtMEopwJ4pH"
      },
      "source": [
        " 12. (5б). Опишіть своїми словами в одному реченні, як ви розумієте різницю між ітерабельними обʼєктами та ітераторами (можна на прикладі)."
      ]
    },
    {
      "cell_type": "markdown",
      "metadata": {
        "id": "-sHrODc3KFn8"
      },
      "source": [
        "Ітерабельні об'єкти - це ті, по яких можна проходити циклом, наприклад, список або рядок, але вони самі не запам’ятовують свій стан. Ітератор - це об'єкт, який реалізує методи ітерації і переходу до наступного елементу, дозволяючи отримувати елементи поступово, як у випадку з iter([1,2,3])."
      ]
    },
    {
      "cell_type": "markdown",
      "metadata": {
        "id": "E9qJWmNbK8Gl"
      },
      "source": [
        "13. (11б). Створіть клас, що має визначений Iterator Protocol та при кожному виклику next повертає назву дня тижня, поки вони не вичерпаються. Зверніть увагу, що порядок має значення."
      ]
    },
    {
      "cell_type": "code",
      "execution_count": 23,
      "metadata": {
        "id": "cqx-g_RsLo6I"
      },
      "outputs": [
        {
          "name": "stdout",
          "output_type": "stream",
          "text": [
            "Monday\n",
            "Tuesday\n",
            "Wednesday\n",
            "Thursday\n",
            "Friday\n",
            "Saturday\n",
            "Sunday\n"
          ]
        }
      ],
      "source": [
        "class WeekdayIterator:\n",
        "    def __init__(self):\n",
        "        self.days = [\"Monday\", \"Tuesday\", \"Wednesday\", \"Thursday\", \"Friday\", \"Saturday\", \"Sunday\"] \n",
        "        self.index = 0\n",
        "    \n",
        "    def __iter__(self):\n",
        "        return self\n",
        "    \n",
        "    def __next__(self):\n",
        "        if self.index < len(self.days):\n",
        "            day = self.days[self.index]\n",
        "            self.index += 1\n",
        "            return day\n",
        "        else:\n",
        "            raise StopIteration\n",
        "\n",
        "week_iterator = WeekdayIterator()\n",
        "for day in week_iterator:\n",
        "    print(day)\n"
      ]
    },
    {
      "cell_type": "markdown",
      "metadata": {
        "id": "Z3E3S_s1Fv7-"
      },
      "source": [
        "# Вітаю! Ви велика(ий) молодець, що впоралась(вся). Похваліть себе та побалуйте чимось приємним. Я Вами пишаюся."
      ]
    }
  ],
  "metadata": {
    "colab": {
      "provenance": []
    },
    "kernelspec": {
      "display_name": ".venv",
      "language": "python",
      "name": "python3"
    },
    "language_info": {
      "codemirror_mode": {
        "name": "ipython",
        "version": 3
      },
      "file_extension": ".py",
      "mimetype": "text/x-python",
      "name": "python",
      "nbconvert_exporter": "python",
      "pygments_lexer": "ipython3",
      "version": "3.12.9"
    }
  },
  "nbformat": 4,
  "nbformat_minor": 0
}
